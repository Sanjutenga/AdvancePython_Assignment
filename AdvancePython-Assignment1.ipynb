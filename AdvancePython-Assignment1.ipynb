{
 "cells": [
  {
   "cell_type": "markdown",
   "id": "2e178b24",
   "metadata": {},
   "source": [
    "# Q1. What is the purpose of Python's OOP?\n",
    "\n",
    "Ans: Python is called both Scripting and Object Oriented Programming language is mainly paradigm that uses both object and classes in programming. It mainly aims to implement real world entities like inheritance, Polymorphisms,encapsulation in the programming."
   ]
  },
  {
   "cell_type": "markdown",
   "id": "dd0c3981",
   "metadata": {},
   "source": [
    "# Q2. Where does an inheritance search look for an attribute?\n",
    "\n",
    "Ans: An __inheritance__ search look for an attribute mainly in the instance of object. than class of instance was created from then in all superclasses, by default moving from left to right.\n",
    "```\n",
    "class\n",
    "object\n",
    "superclass\n",
    "```"
   ]
  },
  {
   "cell_type": "markdown",
   "id": "d9bd5b9f",
   "metadata": {},
   "source": [
    "# Q3. How do you distinguish between a class object and an instance object?\n",
    "\n",
    "Ans:\n",
    "```\n",
    "Class Object: - \n",
    "  Class Object is like an blueprint or factory to create multiple instances. Every functions or methods in an python are like sets, dictionary,list and tuple are mainly created by object followed by class.\n",
    "  \n",
    "  \n",
    "Instance Object: -\n",
    "   Instance Object is an object that belongs to a class, For instance list is an class in python.\n",
    "  "
   ]
  },
  {
   "cell_type": "markdown",
   "id": "78e0d913",
   "metadata": {},
   "source": [
    "# Q4. What makes the first argument in a class’s method function special?\n",
    "\n",
    "Ans:-  It always receive the instance object that subject to the method call. that usually called \"self\" by convention."
   ]
  },
  {
   "cell_type": "markdown",
   "id": "6aff29ba",
   "metadata": {},
   "source": [
    "# Q5. What is the purpose of the __init__ method?\n",
    "Ans:-  __init__ is mainly reseved method in an python, It is also called Constructor because of object created by class and Python calls automatically each time  of instance of that class created."
   ]
  },
  {
   "cell_type": "code",
   "execution_count": 1,
   "id": "bd15e0b5",
   "metadata": {},
   "outputs": [],
   "source": [
    "class car:\n",
    "    def __init__(self, brand, color, fuel):\n",
    "        self.brand = brand\n",
    "        self.color = color\n",
    "        self.fuel = fuel\n",
    "        \n",
    "    def car_asses(self):\n",
    "        print(self.brand,self.color,self.fuel)"
   ]
  },
  {
   "cell_type": "code",
   "execution_count": 2,
   "id": "7c266c17",
   "metadata": {},
   "outputs": [],
   "source": [
    "swift = car(\"maruthi\",\"white\",\"petrol\")"
   ]
  },
  {
   "cell_type": "code",
   "execution_count": 3,
   "id": "09c48e32",
   "metadata": {},
   "outputs": [
    {
     "name": "stdout",
     "output_type": "stream",
     "text": [
      "maruthi white petrol\n"
     ]
    }
   ],
   "source": [
    "swift.car_asses()"
   ]
  },
  {
   "cell_type": "markdown",
   "id": "d48f6acd",
   "metadata": {},
   "source": [
    "# Q6. What is the process for creating a class instance?\n",
    "\n",
    "Ans:- To create Class instance you need to call  using class name and pass whatever arguments its __init__ method aspects"
   ]
  },
  {
   "cell_type": "markdown",
   "id": "e0767402",
   "metadata": {},
   "source": [
    "# Q7. What is the process for creating a class?\n",
    "\n",
    "Ans: -  Use the keyword call __class__ "
   ]
  },
  {
   "cell_type": "code",
   "execution_count": 6,
   "id": "1643d224",
   "metadata": {},
   "outputs": [],
   "source": [
    "class identity():   # passing an suitable instance of object to class\n",
    "    pass"
   ]
  },
  {
   "cell_type": "markdown",
   "id": "ac9b4015",
   "metadata": {},
   "source": [
    "# Q8. How would you define the superclasses of a class?\n",
    "\n",
    "Ans:- A superclass is the class from which many subclasses can be created. The superclass is also kn own as parent class or base class.The subclasses inherit the characteristics of a superclass.\n",
    "example: vehicle is superclass where truck,bus, cycle are called subclass"
   ]
  },
  {
   "cell_type": "code",
   "execution_count": null,
   "id": "4c19999d",
   "metadata": {},
   "outputs": [],
   "source": []
  }
 ],
 "metadata": {
  "kernelspec": {
   "display_name": "Python 3 (ipykernel)",
   "language": "python",
   "name": "python3"
  },
  "language_info": {
   "codemirror_mode": {
    "name": "ipython",
    "version": 3
   },
   "file_extension": ".py",
   "mimetype": "text/x-python",
   "name": "python",
   "nbconvert_exporter": "python",
   "pygments_lexer": "ipython3",
   "version": "3.9.13"
  }
 },
 "nbformat": 4,
 "nbformat_minor": 5
}
