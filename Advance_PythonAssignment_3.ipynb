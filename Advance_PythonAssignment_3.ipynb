{
 "cells": [
  {
   "cell_type": "markdown",
   "id": "f749a1ef",
   "metadata": {},
   "source": [
    "# 1. What is the concept of an abstract superclass?\n",
    "\n",
    "Ans: abstract superclass is one way of __reusable of code__.it contains one or more abstract method and abstract must be initiated by subclass."
   ]
  },
  {
   "cell_type": "code",
   "execution_count": 1,
   "id": "52c6c204",
   "metadata": {},
   "outputs": [],
   "source": [
    "class xyz():\n",
    "    def write():\n",
    "        pass\n",
    "    def read():\n",
    "        pass\n",
    "    def learn():\n",
    "        pass"
   ]
  },
  {
   "cell_type": "markdown",
   "id": "bf1704d0",
   "metadata": {},
   "source": [
    "# 2. What happens when a class statement's top level contains a basic assignment statement?\n",
    "\n",
    "Ans: An basic assignment statement mainly evaluates the expression list and this is the target lists from left to right, Top level code is the first user specified module that starting point of running. Top level code is called entry point of application."
   ]
  },
  {
   "cell_type": "markdown",
   "id": "c47208e8",
   "metadata": {},
   "source": [
    "# 3. Why does a class need to manually call a superclass's __init__ method?\n",
    "\n",
    "Ans: the main reason of calling __init__ method manually.and helps to __multiple inheritance__.\n",
    "__init__ method is may typically create member variable and initialize them as defaults."
   ]
  },
  {
   "cell_type": "markdown",
   "id": "112050d0",
   "metadata": {},
   "source": [
    "# 4. How can you augment, instead of completely replacing, an inherited method?\n",
    "\n",
    "Ans: A more suphisticated way of augment an inherited method involves forwarding. __Message forwarding__ allows an augment an inherited method in such a way that performing inherited action."
   ]
  },
  {
   "cell_type": "markdown",
   "id": "373a7056",
   "metadata": {},
   "source": [
    "# 5. How is the local scope of a class different from that of a function?\n",
    "\n",
    "Ans: __Local scope__ is the area between an {and its __closing__}. __Function scope__ is an area between the opening {of a function and its closing} , which may contains more local scope."
   ]
  },
  {
   "cell_type": "code",
   "execution_count": null,
   "id": "4d13dfaa",
   "metadata": {},
   "outputs": [],
   "source": []
  }
 ],
 "metadata": {
  "kernelspec": {
   "display_name": "Python 3 (ipykernel)",
   "language": "python",
   "name": "python3"
  },
  "language_info": {
   "codemirror_mode": {
    "name": "ipython",
    "version": 3
   },
   "file_extension": ".py",
   "mimetype": "text/x-python",
   "name": "python",
   "nbconvert_exporter": "python",
   "pygments_lexer": "ipython3",
   "version": "3.9.13"
  }
 },
 "nbformat": 4,
 "nbformat_minor": 5
}
