{
 "cells": [
  {
   "cell_type": "markdown",
   "id": "2f559655",
   "metadata": {},
   "source": [
    "# Q1. What is the relationship between classes and modules?\n",
    "\n",
    "Ans: Classes are the __instances of object__ and __pre-instance__ of variables  and  __classes__ are mainly blueprint of given object. Modules are combined on both classes and functions and __Modules__ are used for reuse of given piece of code inside another program."
   ]
  },
  {
   "cell_type": "markdown",
   "id": "34426905",
   "metadata": {},
   "source": [
    "# Q2. How do you make instances and classes?\n",
    "Ans: To create instance of class, you can use class by class name and pass initializing argument called __init__"
   ]
  },
  {
   "cell_type": "code",
   "execution_count": 1,
   "id": "0ed50c56",
   "metadata": {},
   "outputs": [],
   "source": [
    "class test():\n",
    "    def __init__(self,a,b,c):\n",
    "        self.a = a\n",
    "        self.b = b\n",
    "        self.c = c\n",
    "    def test1(self):\n",
    "        print(self.a,self.b,self.c)"
   ]
  },
  {
   "cell_type": "markdown",
   "id": "94670650",
   "metadata": {},
   "source": [
    "# Q3. Where and how should be class attributes created?\n",
    "\n",
    "Ans: The class attributes mainly created by the all instance of class. To define the class attribute place __init__ method outside."
   ]
  },
  {
   "cell_type": "markdown",
   "id": "9a9fe984",
   "metadata": {},
   "source": [
    "# Q4. Where and how are instance attributes created?\n",
    "Ans: The instance attributes are mainly created by __constructor__. defined inside the class and mainly defined using self parameter."
   ]
  },
  {
   "cell_type": "markdown",
   "id": "745ecbaf",
   "metadata": {},
   "source": [
    "# Q5. What does the term & \"self\" in a Python class mean?\n",
    "Ans: \"Self\" acting like an pointer, self is an argument we can pass both in instance and constructor method.__self is an keyword used for all instance of classes__. It mainly binds the attributes with the given argument."
   ]
  },
  {
   "cell_type": "markdown",
   "id": "e0e30d51",
   "metadata": {},
   "source": [
    "# Q6. How does a Python class handle operator overloading?\n",
    "Ans:  python operator works mainly for __built-in__ classes. but the same operator will behaves differently with different types.__Operator Overloading is mainly allows redefining the existing functionality of operators__\n",
    "example : \"+\" is acts as addition in arithematic operation, concatenate two strings, adding two list or append"
   ]
  },
  {
   "cell_type": "markdown",
   "id": "6e21c1f3",
   "metadata": {},
   "source": [
    "# Q7. When do you consider allowing operator overloading of your classes?\n",
    "Ans: The operator overloading in python provides __extended meaning__ beyond their __pre-defined operational meaning__. We can acheive \"+\" operator in \"int\" class and \"str\" class. __Operator Overloading is mainly allows redefining the existing functionality of operators__"
   ]
  },
  {
   "cell_type": "markdown",
   "id": "d0f51307",
   "metadata": {},
   "source": [
    "# Q8. What is the most popular form of operator overloading?\n",
    "\n",
    "Ans: __Addition (+) operator__"
   ]
  },
  {
   "cell_type": "markdown",
   "id": "8b1bb34e",
   "metadata": {},
   "source": [
    "# Q9. What are the two most important concepts to grasp in order to comprehend Python OOP code?\n",
    "\n",
    "Ans:__Inheritance__ and __Polymorphism__"
   ]
  }
 ],
 "metadata": {
  "kernelspec": {
   "display_name": "Python 3 (ipykernel)",
   "language": "python",
   "name": "python3"
  },
  "language_info": {
   "codemirror_mode": {
    "name": "ipython",
    "version": 3
   },
   "file_extension": ".py",
   "mimetype": "text/x-python",
   "name": "python",
   "nbconvert_exporter": "python",
   "pygments_lexer": "ipython3",
   "version": "3.9.13"
  }
 },
 "nbformat": 4,
 "nbformat_minor": 5
}
